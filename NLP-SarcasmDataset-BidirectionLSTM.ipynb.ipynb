{
  "nbformat": 4,
  "nbformat_minor": 0,
  "metadata": {
    "accelerator": "GPU",
    "colab": {
      "name": "Copy of Course 3 - Week 3 - Lesson 2.ipynb",
      "provenance": [],
      "collapsed_sections": [],
      "toc_visible": true,
      "include_colab_link": true
    },
    "kernelspec": {
      "display_name": "Python 3",
      "name": "python3"
    }
  },
  "cells": [
    {
      "cell_type": "markdown",
      "metadata": {
        "id": "view-in-github",
        "colab_type": "text"
      },
      "source": [
        "<a href=\"https://colab.research.google.com/github/sussahoo/Keras-ML/blob/master/NLP-SarcasmDataset-BidirectionLSTM.ipynb.ipynb\" target=\"_parent\"><img src=\"https://colab.research.google.com/assets/colab-badge.svg\" alt=\"Open In Colab\"/></a>"
      ]
    },
    {
      "cell_type": "code",
      "metadata": {
        "id": "zX4Kg8DUTKWO",
        "colab_type": "code",
        "colab": {}
      },
      "source": [
        "#@title Licensed under the Apache License, Version 2.0 (the \"License\");\n",
        "# you may not use this file except in compliance with the License.\n",
        "# You may obtain a copy of the License at\n",
        "#\n",
        "# https://www.apache.org/licenses/LICENSE-2.0\n",
        "#\n",
        "# Unless required by applicable law or agreed to in writing, software\n",
        "# distributed under the License is distributed on an \"AS IS\" BASIS,\n",
        "# WITHOUT WARRANTIES OR CONDITIONS OF ANY KIND, either express or implied.\n",
        "# See the License for the specific language governing permissions and\n",
        "# limitations under the License."
      ],
      "execution_count": 0,
      "outputs": []
    },
    {
      "cell_type": "code",
      "metadata": {
        "colab_type": "code",
        "id": "jGwXGIXvFhXW",
        "outputId": "73a2e97f-640e-4c3a-884b-9db8b0451889",
        "colab": {
          "base_uri": "https://localhost:8080/",
          "height": 1000
        }
      },
      "source": [
        "import json\n",
        "import tensorflow as tf\n",
        "import numpy as np\n",
        "\n",
        "from tensorflow.keras.preprocessing.text import Tokenizer\n",
        "from tensorflow.keras.preprocessing.sequence import pad_sequences\n",
        "\n",
        "\n",
        "!wget --no-check-certificate \\\n",
        "    https://storage.googleapis.com/laurencemoroney-blog.appspot.com/sarcasm.json \\\n",
        "    -O /tmp/sarcasm.json\n",
        "\n",
        "vocab_size = 1000\n",
        "embedding_dim = 16\n",
        "max_length = 120\n",
        "trunc_type='post'\n",
        "padding_type='post'\n",
        "oov_tok = \"<OOV>\"\n",
        "training_size = 20000\n",
        "\n",
        "\n",
        "with open(\"/tmp/sarcasm.json\", 'r') as f:\n",
        "    datastore = json.load(f)\n",
        "\n",
        "\n",
        "sentences = []\n",
        "labels = []\n",
        "urls = []\n",
        "for item in datastore:\n",
        "    sentences.append(item['headline'])\n",
        "    labels.append(item['is_sarcastic'])\n",
        "\n",
        "training_sentences = sentences[0:training_size]\n",
        "testing_sentences = sentences[training_size:]\n",
        "training_labels = labels[0:training_size]\n",
        "testing_labels = labels[training_size:]\n",
        "\n",
        "tokenizer = Tokenizer(num_words=vocab_size, oov_token=oov_tok)\n",
        "tokenizer.fit_on_texts(training_sentences)\n",
        "\n",
        "word_index = tokenizer.word_index\n",
        "\n",
        "training_sequences = tokenizer.texts_to_sequences(training_sentences)\n",
        "training_padded = pad_sequences(training_sequences, maxlen=max_length, padding=padding_type, truncating=trunc_type)\n",
        "\n",
        "testing_sequences = tokenizer.texts_to_sequences(testing_sentences)\n",
        "testing_padded = pad_sequences(testing_sequences, maxlen=max_length, padding=padding_type, truncating=trunc_type)\n",
        "\n",
        "model = tf.keras.Sequential([\n",
        "    tf.keras.layers.Embedding(vocab_size, embedding_dim, input_length=max_length),\n",
        "    tf.keras.layers.Bidirectional(tf.keras.layers.LSTM(32)),\n",
        "    tf.keras.layers.Dense(24, activation='relu'),\n",
        "    tf.keras.layers.Dense(1, activation='sigmoid')\n",
        "])\n",
        "model.compile(loss='binary_crossentropy',optimizer='adam',metrics=['accuracy'])\n",
        "model.summary()\n",
        "\n",
        "num_epochs = 50\n",
        "training_padded = np.array(training_padded)\n",
        "training_labels = np.array(training_labels)\n",
        "testing_padded = np.array(testing_padded)\n",
        "testing_labels = np.array(testing_labels)\n",
        "history = model.fit(training_padded, training_labels, epochs=num_epochs, validation_data=(testing_padded, testing_labels), verbose=1)\n"
      ],
      "execution_count": 0,
      "outputs": [
        {
          "output_type": "stream",
          "text": [
            "--2020-05-14 21:49:40--  https://storage.googleapis.com/laurencemoroney-blog.appspot.com/sarcasm.json\n",
            "Resolving storage.googleapis.com (storage.googleapis.com)... 74.125.200.128, 2404:6800:4003:c03::80\n",
            "Connecting to storage.googleapis.com (storage.googleapis.com)|74.125.200.128|:443... connected.\n",
            "HTTP request sent, awaiting response... 200 OK\n",
            "Length: 5643545 (5.4M) [application/json]\n",
            "Saving to: ‘/tmp/sarcasm.json’\n",
            "\n",
            "\r/tmp/sarcasm.json     0%[                    ]       0  --.-KB/s               \r/tmp/sarcasm.json   100%[===================>]   5.38M  --.-KB/s    in 0.05s   \n",
            "\n",
            "2020-05-14 21:49:40 (104 MB/s) - ‘/tmp/sarcasm.json’ saved [5643545/5643545]\n",
            "\n",
            "Model: \"sequential_1\"\n",
            "_________________________________________________________________\n",
            "Layer (type)                 Output Shape              Param #   \n",
            "=================================================================\n",
            "embedding_1 (Embedding)      (None, 120, 16)           16000     \n",
            "_________________________________________________________________\n",
            "bidirectional_1 (Bidirection (None, 64)                12544     \n",
            "_________________________________________________________________\n",
            "dense_2 (Dense)              (None, 24)                1560      \n",
            "_________________________________________________________________\n",
            "dense_3 (Dense)              (None, 1)                 25        \n",
            "=================================================================\n",
            "Total params: 30,129\n",
            "Trainable params: 30,129\n",
            "Non-trainable params: 0\n",
            "_________________________________________________________________\n",
            "Epoch 1/50\n",
            "625/625 [==============================] - 9s 15ms/step - loss: 0.4630 - accuracy: 0.7646 - val_loss: 0.3856 - val_accuracy: 0.8216\n",
            "Epoch 2/50\n",
            "625/625 [==============================] - 9s 14ms/step - loss: 0.3593 - accuracy: 0.8336 - val_loss: 0.3794 - val_accuracy: 0.8252\n",
            "Epoch 3/50\n",
            "625/625 [==============================] - 9s 14ms/step - loss: 0.3390 - accuracy: 0.8454 - val_loss: 0.3857 - val_accuracy: 0.8219\n",
            "Epoch 4/50\n",
            "625/625 [==============================] - 9s 14ms/step - loss: 0.3241 - accuracy: 0.8551 - val_loss: 0.3733 - val_accuracy: 0.8338\n",
            "Epoch 5/50\n",
            "625/625 [==============================] - 9s 14ms/step - loss: 0.3101 - accuracy: 0.8610 - val_loss: 0.3708 - val_accuracy: 0.8392\n",
            "Epoch 6/50\n",
            "625/625 [==============================] - 9s 14ms/step - loss: 0.2973 - accuracy: 0.8702 - val_loss: 0.3738 - val_accuracy: 0.8362\n",
            "Epoch 7/50\n",
            "625/625 [==============================] - 9s 14ms/step - loss: 0.2869 - accuracy: 0.8717 - val_loss: 0.3934 - val_accuracy: 0.8234\n",
            "Epoch 8/50\n",
            "625/625 [==============================] - 9s 14ms/step - loss: 0.2780 - accuracy: 0.8759 - val_loss: 0.3799 - val_accuracy: 0.8343\n",
            "Epoch 9/50\n",
            "625/625 [==============================] - 9s 14ms/step - loss: 0.2705 - accuracy: 0.8796 - val_loss: 0.3938 - val_accuracy: 0.8331\n",
            "Epoch 10/50\n",
            "625/625 [==============================] - 9s 14ms/step - loss: 0.2613 - accuracy: 0.8842 - val_loss: 0.3966 - val_accuracy: 0.8350\n",
            "Epoch 11/50\n",
            "625/625 [==============================] - 9s 14ms/step - loss: 0.2546 - accuracy: 0.8885 - val_loss: 0.4136 - val_accuracy: 0.8290\n",
            "Epoch 12/50\n",
            "625/625 [==============================] - 9s 14ms/step - loss: 0.2467 - accuracy: 0.8935 - val_loss: 0.4109 - val_accuracy: 0.8308\n",
            "Epoch 13/50\n",
            "625/625 [==============================] - 9s 14ms/step - loss: 0.2384 - accuracy: 0.8973 - val_loss: 0.4086 - val_accuracy: 0.8298\n",
            "Epoch 14/50\n",
            "625/625 [==============================] - 9s 14ms/step - loss: 0.2311 - accuracy: 0.9003 - val_loss: 0.4223 - val_accuracy: 0.8274\n",
            "Epoch 15/50\n",
            "625/625 [==============================] - 9s 14ms/step - loss: 0.2237 - accuracy: 0.9032 - val_loss: 0.4587 - val_accuracy: 0.8262\n",
            "Epoch 16/50\n",
            "625/625 [==============================] - 9s 14ms/step - loss: 0.2177 - accuracy: 0.9085 - val_loss: 0.4612 - val_accuracy: 0.8237\n",
            "Epoch 17/50\n",
            "625/625 [==============================] - 9s 14ms/step - loss: 0.2089 - accuracy: 0.9115 - val_loss: 0.4854 - val_accuracy: 0.8228\n",
            "Epoch 18/50\n",
            "625/625 [==============================] - 9s 14ms/step - loss: 0.2001 - accuracy: 0.9150 - val_loss: 0.4841 - val_accuracy: 0.8204\n",
            "Epoch 19/50\n",
            "625/625 [==============================] - 9s 14ms/step - loss: 0.1936 - accuracy: 0.9189 - val_loss: 0.5249 - val_accuracy: 0.8207\n",
            "Epoch 20/50\n",
            "625/625 [==============================] - 9s 14ms/step - loss: 0.1850 - accuracy: 0.9215 - val_loss: 0.5534 - val_accuracy: 0.8144\n",
            "Epoch 21/50\n",
            "625/625 [==============================] - 9s 14ms/step - loss: 0.1796 - accuracy: 0.9237 - val_loss: 0.5632 - val_accuracy: 0.8162\n",
            "Epoch 22/50\n",
            "625/625 [==============================] - 9s 14ms/step - loss: 0.1710 - accuracy: 0.9283 - val_loss: 0.5873 - val_accuracy: 0.8150\n",
            "Epoch 23/50\n",
            "625/625 [==============================] - 9s 14ms/step - loss: 0.1650 - accuracy: 0.9328 - val_loss: 0.6446 - val_accuracy: 0.8135\n",
            "Epoch 24/50\n",
            "625/625 [==============================] - 9s 14ms/step - loss: 0.1566 - accuracy: 0.9344 - val_loss: 0.6030 - val_accuracy: 0.8134\n",
            "Epoch 25/50\n",
            "625/625 [==============================] - 9s 14ms/step - loss: 0.1491 - accuracy: 0.9386 - val_loss: 0.6966 - val_accuracy: 0.8159\n",
            "Epoch 26/50\n",
            "625/625 [==============================] - 9s 14ms/step - loss: 0.1416 - accuracy: 0.9424 - val_loss: 0.7331 - val_accuracy: 0.8080\n",
            "Epoch 27/50\n",
            "625/625 [==============================] - 9s 14ms/step - loss: 0.1378 - accuracy: 0.9439 - val_loss: 0.7327 - val_accuracy: 0.8101\n",
            "Epoch 28/50\n",
            "625/625 [==============================] - 9s 14ms/step - loss: 0.1289 - accuracy: 0.9476 - val_loss: 0.7805 - val_accuracy: 0.8110\n",
            "Epoch 29/50\n",
            "625/625 [==============================] - 9s 14ms/step - loss: 0.1250 - accuracy: 0.9481 - val_loss: 0.7814 - val_accuracy: 0.8058\n",
            "Epoch 30/50\n",
            "625/625 [==============================] - 9s 14ms/step - loss: 0.1195 - accuracy: 0.9502 - val_loss: 0.8404 - val_accuracy: 0.8056\n",
            "Epoch 31/50\n",
            "625/625 [==============================] - 9s 14ms/step - loss: 0.1119 - accuracy: 0.9542 - val_loss: 0.8802 - val_accuracy: 0.8055\n",
            "Epoch 32/50\n",
            "625/625 [==============================] - 9s 15ms/step - loss: 0.1097 - accuracy: 0.9559 - val_loss: 0.9290 - val_accuracy: 0.8032\n",
            "Epoch 33/50\n",
            "625/625 [==============================] - 9s 14ms/step - loss: 0.1021 - accuracy: 0.9575 - val_loss: 0.9796 - val_accuracy: 0.7970\n",
            "Epoch 34/50\n",
            "625/625 [==============================] - 9s 14ms/step - loss: 0.0983 - accuracy: 0.9604 - val_loss: 1.0532 - val_accuracy: 0.8028\n",
            "Epoch 35/50\n",
            "625/625 [==============================] - 9s 14ms/step - loss: 0.0995 - accuracy: 0.9596 - val_loss: 1.0239 - val_accuracy: 0.8025\n",
            "Epoch 36/50\n",
            "625/625 [==============================] - 9s 14ms/step - loss: 0.0883 - accuracy: 0.9633 - val_loss: 1.0487 - val_accuracy: 0.8021\n",
            "Epoch 37/50\n",
            "625/625 [==============================] - 9s 15ms/step - loss: 0.0887 - accuracy: 0.9632 - val_loss: 1.1671 - val_accuracy: 0.7991\n",
            "Epoch 38/50\n",
            "625/625 [==============================] - 9s 14ms/step - loss: 0.0805 - accuracy: 0.9668 - val_loss: 1.1991 - val_accuracy: 0.8041\n",
            "Epoch 39/50\n",
            "625/625 [==============================] - 9s 14ms/step - loss: 0.0815 - accuracy: 0.9679 - val_loss: 1.2035 - val_accuracy: 0.8030\n",
            "Epoch 40/50\n",
            "625/625 [==============================] - 9s 14ms/step - loss: 0.0795 - accuracy: 0.9669 - val_loss: 1.2429 - val_accuracy: 0.8012\n",
            "Epoch 41/50\n",
            "625/625 [==============================] - 9s 14ms/step - loss: 0.0785 - accuracy: 0.9668 - val_loss: 1.1951 - val_accuracy: 0.8003\n",
            "Epoch 42/50\n",
            "625/625 [==============================] - 9s 14ms/step - loss: 0.0699 - accuracy: 0.9707 - val_loss: 1.3340 - val_accuracy: 0.8027\n",
            "Epoch 43/50\n",
            "625/625 [==============================] - 9s 14ms/step - loss: 0.0660 - accuracy: 0.9729 - val_loss: 1.4288 - val_accuracy: 0.8025\n",
            "Epoch 44/50\n",
            "625/625 [==============================] - 9s 14ms/step - loss: 0.0636 - accuracy: 0.9727 - val_loss: 1.5163 - val_accuracy: 0.7970\n",
            "Epoch 45/50\n",
            "625/625 [==============================] - 9s 14ms/step - loss: 0.0722 - accuracy: 0.9707 - val_loss: 1.4101 - val_accuracy: 0.8009\n",
            "Epoch 46/50\n",
            "625/625 [==============================] - 9s 14ms/step - loss: 0.0668 - accuracy: 0.9719 - val_loss: 1.4551 - val_accuracy: 0.7997\n",
            "Epoch 47/50\n",
            "625/625 [==============================] - 9s 14ms/step - loss: 0.0611 - accuracy: 0.9747 - val_loss: 1.5230 - val_accuracy: 0.7980\n",
            "Epoch 48/50\n",
            "625/625 [==============================] - 9s 14ms/step - loss: 0.0587 - accuracy: 0.9754 - val_loss: 1.4909 - val_accuracy: 0.7998\n",
            "Epoch 49/50\n",
            "625/625 [==============================] - 9s 14ms/step - loss: 0.0567 - accuracy: 0.9774 - val_loss: 1.5594 - val_accuracy: 0.8046\n",
            "Epoch 50/50\n",
            "625/625 [==============================] - 9s 14ms/step - loss: 0.0593 - accuracy: 0.9759 - val_loss: 1.6295 - val_accuracy: 0.7967\n"
          ],
          "name": "stdout"
        }
      ]
    },
    {
      "cell_type": "code",
      "metadata": {
        "colab_type": "code",
        "id": "g9DC6dmLF8DC",
        "outputId": "9f8d617e-374a-4729-ff83-3c598c06ed48",
        "colab": {
          "base_uri": "https://localhost:8080/",
          "height": 541
        }
      },
      "source": [
        "import matplotlib.pyplot as plt\n",
        "\n",
        "\n",
        "def plot_graphs(history, string):\n",
        "  plt.plot(history.history[string])\n",
        "  plt.plot(history.history['val_'+string])\n",
        "  plt.xlabel(\"Epochs\")\n",
        "  plt.ylabel(string)\n",
        "  plt.legend([string, 'val_'+string])\n",
        "  plt.show()\n",
        "\n",
        "plot_graphs(history, 'accuracy')\n",
        "plot_graphs(history, 'loss')"
      ],
      "execution_count": 0,
      "outputs": [
        {
          "output_type": "display_data",
          "data": {
            "image/png": "[encoded data removed]",
            "text/plain": [
              "<Figure size 432x288 with 1 Axes>"
            ]
          },
          "metadata": {
            "tags": [],
            "needs_background": "light"
          }
        },
        {
          "output_type": "display_data",
          "data": {
            "image/png": "[encoded data removed]",
            "text/plain": [
              "<Figure size 432x288 with 1 Axes>"
            ]
          },
          "metadata": {
            "tags": [],
            "needs_background": "light"
          }
        }
      ]
    },
    {
      "cell_type": "code",
      "metadata": {
        "colab_type": "code",
        "id": "7ZEZIUppGhdi",
        "colab": {}
      },
      "source": [
        "model.save(\"test.h5\")"
      ],
      "execution_count": 0,
      "outputs": []
    }
  ]
}