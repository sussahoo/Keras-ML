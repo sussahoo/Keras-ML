{
  "nbformat": 4,
  "nbformat_minor": 0,
  "metadata": {
    "colab": {
      "name": "Course 3 - Week 2 - Lesson 2.ipynb",
      "provenance": [],
      "collapsed_sections": []
    },
    "kernelspec": {
      "name": "python3",
      "display_name": "Python 3"
    },
    "accelerator": "GPU"
  },
  "cells": [
    {
      "cell_type": "code",
      "metadata": {
        "id": "XYYDvoskkE61",
        "colab_type": "code",
        "colab": {}
      },
      "source": [
        "import json\n",
        "import tensorflow as tf\n",
        "\n",
        "from tensorflow.keras.preprocessing.text import Tokenizer\n",
        "from tensorflow.keras.preprocessing.sequence import pad_sequences\n",
        "import numpy as np"
      ],
      "execution_count": 0,
      "outputs": []
    },
    {
      "cell_type": "code",
      "metadata": {
        "id": "0eJSTTYnkJQd",
        "colab_type": "code",
        "colab": {}
      },
      "source": [
        "vocab_size = 10000\n",
        "embedding_dim = 16\n",
        "max_length = 100\n",
        "trunc_type='post'\n",
        "padding_type='post'\n",
        "oov_tok = \"<OOV>\"\n",
        "training_size = 20000\n"
      ],
      "execution_count": 0,
      "outputs": []
    },
    {
      "cell_type": "code",
      "metadata": {
        "id": "BQVuQrZNkPn9",
        "colab_type": "code",
        "colab": {
          "base_uri": "https://localhost:8080/",
          "height": 204
        },
        "outputId": "12b76859-4527-4d9b-eb67-86d9c9e3a3b7"
      },
      "source": [
        "!wget --no-check-certificate \\\n",
        "    https://storage.googleapis.com/laurencemoroney-blog.appspot.com/sarcasm.json \\\n",
        "    -O /tmp/sarcasm.json\n"
      ],
      "execution_count": 29,
      "outputs": [
        {
          "output_type": "stream",
          "text": [
            "--2020-05-14 21:27:41--  https://storage.googleapis.com/laurencemoroney-blog.appspot.com/sarcasm.json\n",
            "Resolving storage.googleapis.com (storage.googleapis.com)... 173.194.216.128, 2607:f8b0:400c:c08::80\n",
            "Connecting to storage.googleapis.com (storage.googleapis.com)|173.194.216.128|:443... connected.\n",
            "HTTP request sent, awaiting response... 200 OK\n",
            "Length: 5643545 (5.4M) [application/json]\n",
            "Saving to: ‘/tmp/sarcasm.json’\n",
            "\n",
            "\r/tmp/sarcasm.json     0%[                    ]       0  --.-KB/s               \r/tmp/sarcasm.json   100%[===================>]   5.38M  --.-KB/s    in 0.03s   \n",
            "\n",
            "2020-05-14 21:27:41 (176 MB/s) - ‘/tmp/sarcasm.json’ saved [5643545/5643545]\n",
            "\n"
          ],
          "name": "stdout"
        }
      ]
    },
    {
      "cell_type": "code",
      "metadata": {
        "id": "oaLaaqhNkUPd",
        "colab_type": "code",
        "colab": {}
      },
      "source": [
        "with open(\"/tmp/sarcasm.json\", 'r') as f:\n",
        "    datastore = json.load(f)\n",
        "\n",
        "sentences = []\n",
        "labels = []\n",
        "\n",
        "for item in datastore:\n",
        "    sentences.append(item['headline'])\n",
        "    labels.append(item['is_sarcastic'])"
      ],
      "execution_count": 0,
      "outputs": []
    },
    {
      "cell_type": "code",
      "metadata": {
        "id": "S1sD-7v0kYWk",
        "colab_type": "code",
        "colab": {}
      },
      "source": [
        "training_sentences = sentences[0:training_size]\n",
        "testing_sentences = sentences[training_size:]\n",
        "training_labels = labels[0:training_size]\n",
        "testing_labels = labels[training_size:]"
      ],
      "execution_count": 0,
      "outputs": []
    },
    {
      "cell_type": "code",
      "metadata": {
        "id": "3u8UB0MCkZ5N",
        "colab_type": "code",
        "colab": {}
      },
      "source": [
        "tokenizer = Tokenizer(num_words=vocab_size, oov_token=oov_tok)\n",
        "tokenizer.fit_on_texts(training_sentences)\n",
        "\n",
        "word_index = tokenizer.word_index\n",
        "\n",
        "training_sequences = tokenizer.texts_to_sequences(training_sentences)\n",
        "training_padded = pad_sequences(training_sequences, maxlen=max_length, padding=padding_type, truncating=trunc_type)\n",
        "\n",
        "testing_sequences = tokenizer.texts_to_sequences(testing_sentences)\n",
        "testing_padded = pad_sequences(testing_sequences, maxlen=max_length, padding=padding_type, truncating=trunc_type)"
      ],
      "execution_count": 0,
      "outputs": []
    },
    {
      "cell_type": "code",
      "metadata": {
        "id": "FufaT4vlkiDE",
        "colab_type": "code",
        "colab": {}
      },
      "source": [
        "model = tf.keras.Sequential([\n",
        "    tf.keras.layers.Embedding(vocab_size, embedding_dim, input_length=max_length),\n",
        "    tf.keras.layers.GlobalAveragePooling1D(),\n",
        "    tf.keras.layers.Dense(24, activation='relu'),\n",
        "    tf.keras.layers.Dense(1, activation='sigmoid')\n",
        "])\n",
        "model.compile(loss='binary_crossentropy',optimizer='adam',metrics=['accuracy'])"
      ],
      "execution_count": 0,
      "outputs": []
    },
    {
      "cell_type": "code",
      "metadata": {
        "id": "XfDt1hmYkiys",
        "colab_type": "code",
        "colab": {
          "base_uri": "https://localhost:8080/",
          "height": 289
        },
        "outputId": "b23efd12-2185-4c6c-bf3d-99e568542b31"
      },
      "source": [
        "model.summary()\n"
      ],
      "execution_count": 34,
      "outputs": [
        {
          "output_type": "stream",
          "text": [
            "Model: \"sequential_2\"\n",
            "_________________________________________________________________\n",
            "Layer (type)                 Output Shape              Param #   \n",
            "=================================================================\n",
            "embedding_2 (Embedding)      (None, 100, 16)           160000    \n",
            "_________________________________________________________________\n",
            "global_average_pooling1d_2 ( (None, 16)                0         \n",
            "_________________________________________________________________\n",
            "dense_4 (Dense)              (None, 24)                408       \n",
            "_________________________________________________________________\n",
            "dense_5 (Dense)              (None, 1)                 25        \n",
            "=================================================================\n",
            "Total params: 160,433\n",
            "Trainable params: 160,433\n",
            "Non-trainable params: 0\n",
            "_________________________________________________________________\n"
          ],
          "name": "stdout"
        }
      ]
    },
    {
      "cell_type": "code",
      "metadata": {
        "id": "uOeuGB8eEpoT",
        "colab_type": "code",
        "colab": {}
      },
      "source": [
        "training_padded =  np.array(training_padded)\n",
        "training_labels = np.array(training_labels)\n",
        "testing_padded = np.array(testing_padded)\n",
        "testing_labels = np.array(testing_labels)\n",
        " "
      ],
      "execution_count": 0,
      "outputs": []
    },
    {
      "cell_type": "code",
      "metadata": {
        "id": "2DTKQFf1kkyc",
        "colab_type": "code",
        "colab": {
          "base_uri": "https://localhost:8080/",
          "height": 1000
        },
        "outputId": "7dbdd77a-f3d5-48a9-aa6e-1ad5e0b1e942"
      },
      "source": [
        "num_epochs = 30\n",
        "history = model.fit(training_padded, training_labels, epochs=num_epochs, validation_data=(testing_padded, testing_labels), verbose=2)"
      ],
      "execution_count": 37,
      "outputs": [
        {
          "output_type": "stream",
          "text": [
            "Epoch 1/30\n",
            "625/625 - 3s - loss: 0.6592 - accuracy: 0.5947 - val_loss: 0.5529 - val_accuracy: 0.7904\n",
            "Epoch 2/30\n",
            "625/625 - 3s - loss: 0.4130 - accuracy: 0.8373 - val_loss: 0.3771 - val_accuracy: 0.8433\n",
            "Epoch 3/30\n",
            "625/625 - 3s - loss: 0.3021 - accuracy: 0.8791 - val_loss: 0.3491 - val_accuracy: 0.8550\n",
            "Epoch 4/30\n",
            "625/625 - 3s - loss: 0.2523 - accuracy: 0.9001 - val_loss: 0.3425 - val_accuracy: 0.8559\n",
            "Epoch 5/30\n",
            "625/625 - 3s - loss: 0.2165 - accuracy: 0.9155 - val_loss: 0.3440 - val_accuracy: 0.8548\n",
            "Epoch 6/30\n",
            "625/625 - 3s - loss: 0.1893 - accuracy: 0.9285 - val_loss: 0.3568 - val_accuracy: 0.8527\n",
            "Epoch 7/30\n",
            "625/625 - 3s - loss: 0.1683 - accuracy: 0.9377 - val_loss: 0.3775 - val_accuracy: 0.8489\n",
            "Epoch 8/30\n",
            "625/625 - 3s - loss: 0.1511 - accuracy: 0.9443 - val_loss: 0.3871 - val_accuracy: 0.8527\n",
            "Epoch 9/30\n",
            "625/625 - 4s - loss: 0.1351 - accuracy: 0.9509 - val_loss: 0.4053 - val_accuracy: 0.8521\n",
            "Epoch 10/30\n",
            "625/625 - 4s - loss: 0.1213 - accuracy: 0.9567 - val_loss: 0.4368 - val_accuracy: 0.8453\n",
            "Epoch 11/30\n",
            "625/625 - 3s - loss: 0.1120 - accuracy: 0.9614 - val_loss: 0.4550 - val_accuracy: 0.8453\n",
            "Epoch 12/30\n",
            "625/625 - 3s - loss: 0.0994 - accuracy: 0.9653 - val_loss: 0.5024 - val_accuracy: 0.8359\n",
            "Epoch 13/30\n",
            "625/625 - 3s - loss: 0.0919 - accuracy: 0.9679 - val_loss: 0.5289 - val_accuracy: 0.8353\n",
            "Epoch 14/30\n",
            "625/625 - 3s - loss: 0.0833 - accuracy: 0.9717 - val_loss: 0.5772 - val_accuracy: 0.8308\n",
            "Epoch 15/30\n",
            "625/625 - 3s - loss: 0.0756 - accuracy: 0.9747 - val_loss: 0.5857 - val_accuracy: 0.8323\n",
            "Epoch 16/30\n",
            "625/625 - 3s - loss: 0.0697 - accuracy: 0.9777 - val_loss: 0.6084 - val_accuracy: 0.8353\n",
            "Epoch 17/30\n",
            "625/625 - 3s - loss: 0.0639 - accuracy: 0.9788 - val_loss: 0.6415 - val_accuracy: 0.8317\n",
            "Epoch 18/30\n",
            "625/625 - 3s - loss: 0.0575 - accuracy: 0.9820 - val_loss: 0.6792 - val_accuracy: 0.8280\n",
            "Epoch 19/30\n",
            "625/625 - 3s - loss: 0.0519 - accuracy: 0.9840 - val_loss: 0.7456 - val_accuracy: 0.8258\n",
            "Epoch 20/30\n",
            "625/625 - 3s - loss: 0.0476 - accuracy: 0.9854 - val_loss: 0.7624 - val_accuracy: 0.8256\n",
            "Epoch 21/30\n",
            "625/625 - 3s - loss: 0.0436 - accuracy: 0.9859 - val_loss: 0.7953 - val_accuracy: 0.8237\n",
            "Epoch 22/30\n",
            "625/625 - 3s - loss: 0.0396 - accuracy: 0.9880 - val_loss: 0.8683 - val_accuracy: 0.8179\n",
            "Epoch 23/30\n",
            "625/625 - 3s - loss: 0.0372 - accuracy: 0.9888 - val_loss: 0.8736 - val_accuracy: 0.8244\n",
            "Epoch 24/30\n",
            "625/625 - 3s - loss: 0.0335 - accuracy: 0.9898 - val_loss: 0.9138 - val_accuracy: 0.8199\n",
            "Epoch 25/30\n",
            "625/625 - 3s - loss: 0.0302 - accuracy: 0.9909 - val_loss: 0.9523 - val_accuracy: 0.8198\n",
            "Epoch 26/30\n",
            "625/625 - 3s - loss: 0.0310 - accuracy: 0.9897 - val_loss: 0.9909 - val_accuracy: 0.8153\n",
            "Epoch 27/30\n",
            "625/625 - 3s - loss: 0.0301 - accuracy: 0.9902 - val_loss: 1.0469 - val_accuracy: 0.8146\n",
            "Epoch 28/30\n",
            "625/625 - 3s - loss: 0.0244 - accuracy: 0.9931 - val_loss: 1.0679 - val_accuracy: 0.8165\n",
            "Epoch 29/30\n",
            "625/625 - 3s - loss: 0.0218 - accuracy: 0.9940 - val_loss: 1.1001 - val_accuracy: 0.8176\n",
            "Epoch 30/30\n",
            "625/625 - 3s - loss: 0.0219 - accuracy: 0.9934 - val_loss: 1.1359 - val_accuracy: 0.8134\n"
          ],
          "name": "stdout"
        }
      ]
    },
    {
      "cell_type": "code",
      "metadata": {
        "id": "2HYfBKXjkmU8",
        "colab_type": "code",
        "colab": {
          "base_uri": "https://localhost:8080/",
          "height": 541
        },
        "outputId": "c5521a37-78ea-49d3-9ac6-2c97e69054f8"
      },
      "source": [
        "import matplotlib.pyplot as plt\n",
        "\n",
        "\n",
        "def plot_graphs(history, string):\n",
        "  plt.plot(history.history[string])\n",
        "  plt.plot(history.history['val_'+string])\n",
        "  plt.xlabel(\"Epochs\")\n",
        "  plt.ylabel(string)\n",
        "  plt.legend([string, 'val_'+string])\n",
        "  plt.show()\n",
        "  \n",
        "plot_graphs(history, \"accuracy\")\n",
        "plot_graphs(history, \"loss\")"
      ],
      "execution_count": 38,
      "outputs": [
        {
          "output_type": "display_data",
          "data": {
            "image/png": "[encoded data removed]",
            "text/plain": [
              "<Figure size 432x288 with 1 Axes>"
            ]
          },
          "metadata": {
            "tags": [],
            "needs_background": "light"
          }
        },
        {
          "output_type": "display_data",
          "data": {
            "image/png": "[encoded data removed]",
            "text/plain": [
              "<Figure size 432x288 with 1 Axes>"
            ]
          },
          "metadata": {
            "tags": [],
            "needs_background": "light"
          }
        }
      ]
    },
    {
      "cell_type": "code",
      "metadata": {
        "id": "7SBdAZAenvzL",
        "colab_type": "code",
        "colab": {
          "base_uri": "https://localhost:8080/",
          "height": 88
        },
        "outputId": "f88e42f3-e5b1-42bc-bca8-19ef57eab8b2"
      },
      "source": [
        "reverse_word_index = dict([(value, key) for (key, value) in word_index.items()])\n",
        "\n",
        "def decode_sentence(text):\n",
        "    return ' '.join([reverse_word_index.get(i, '?') for i in text])\n",
        "\n",
        "print(decode_sentence(training_padded[2]))\n",
        "print(training_sentences[2])\n",
        "print(labels[2])"
      ],
      "execution_count": 40,
      "outputs": [
        {
          "output_type": "stream",
          "text": [
            "mom starting to fear son's web series closest thing she will have to grandchild ? ? ? ? ? ? ? ? ? ? ? ? ? ? ? ? ? ? ? ? ? ? ? ? ? ? ? ? ? ? ? ? ? ? ? ? ? ? ? ? ? ? ? ? ? ? ? ? ? ? ? ? ? ? ? ? ? ? ? ? ? ? ? ? ? ? ? ? ? ? ? ? ? ? ? ? ? ? ? ? ? ? ? ? ? ?\n",
            "mom starting to fear son's web series closest thing she will have to grandchild\n",
            "1\n"
          ],
          "name": "stdout"
        }
      ]
    },
    {
      "cell_type": "code",
      "metadata": {
        "id": "c9MqihtEkzQ9",
        "colab_type": "code",
        "colab": {
          "base_uri": "https://localhost:8080/",
          "height": 34
        },
        "outputId": "d38d4a6e-dd12-4dfa-cf3a-1d04e868b57d"
      },
      "source": [
        "e = model.layers[0]\n",
        "weights = e.get_weights()[0]\n",
        "print(weights.shape) # shape: (vocab_size, embedding_dim)\n"
      ],
      "execution_count": 41,
      "outputs": [
        {
          "output_type": "stream",
          "text": [
            "(10000, 16)\n"
          ],
          "name": "stdout"
        }
      ]
    },
    {
      "cell_type": "code",
      "metadata": {
        "id": "LoBXVffknldU",
        "colab_type": "code",
        "colab": {}
      },
      "source": [
        "import io\n",
        "\n",
        "out_v = io.open('vecs.tsv', 'w', encoding='utf-8')\n",
        "out_m = io.open('meta.tsv', 'w', encoding='utf-8')\n",
        "for word_num in range(1, vocab_size):\n",
        "  word = reverse_word_index[word_num]\n",
        "  embeddings = weights[word_num]\n",
        "  out_m.write(word + \"\\n\")\n",
        "  out_v.write('\\t'.join([str(x) for x in embeddings]) + \"\\n\")\n",
        "out_v.close()\n",
        "out_m.close()"
      ],
      "execution_count": 0,
      "outputs": []
    },
    {
      "cell_type": "code",
      "metadata": {
        "id": "U4eZ5HtVnnEE",
        "colab_type": "code",
        "colab": {}
      },
      "source": [
        "try:\n",
        "  from google.colab import files\n",
        "except ImportError:\n",
        "  pass\n",
        "else:\n",
        "  files.download('vecs.tsv')\n",
        "  files.download('meta.tsv')"
      ],
      "execution_count": 0,
      "outputs": []
    },
    {
      "cell_type": "code",
      "metadata": {
        "id": "cG8-ArY-qDcz",
        "colab_type": "code",
        "colab": {
          "base_uri": "https://localhost:8080/",
          "height": 51
        },
        "outputId": "7a21fd44-8bd7-4862-dbfa-6d289eeee64f"
      },
      "source": [
        "sentence = [\"granny starting to fear spiders in the garden might be real\", \"game of thrones season finale showing this sunday night\"]\n",
        "sequences = tokenizer.texts_to_sequences(sentence)\n",
        "padded = pad_sequences(sequences, maxlen=max_length, padding=padding_type, truncating=trunc_type)\n",
        "print(model.predict(padded))"
      ],
      "execution_count": 42,
      "outputs": [
        {
          "output_type": "stream",
          "text": [
            "[[9.924746e-01]\n",
            " [4.676152e-06]]\n"
          ],
          "name": "stdout"
        }
      ]
    },
    {
      "cell_type": "code",
      "metadata": {
        "id": "JMzgkl07Ge6t",
        "colab_type": "code",
        "colab": {}
      },
      "source": [
        ""
      ],
      "execution_count": 0,
      "outputs": []
    }
  ]
}