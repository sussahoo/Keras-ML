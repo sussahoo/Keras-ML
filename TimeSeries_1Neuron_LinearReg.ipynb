{
  "nbformat": 4,
  "nbformat_minor": 0,
  "metadata": {
    "colab": {
      "name": "TimeSeries-1Neuron-LinearReg.ipynb",
      "provenance": [],
      "toc_visible": true,
      "include_colab_link": true
    },
    "kernelspec": {
      "display_name": "Python 3",
      "name": "python3"
    }
  },
  "cells": [
    {
      "cell_type": "markdown",
      "metadata": {
        "id": "view-in-github",
        "colab_type": "text"
      },
      "source": [
        "<a href=\"https://colab.research.google.com/github/sussahoo/Keras-ML/blob/master/TimeSeries_1Neuron_LinearReg.ipynb\" target=\"_parent\"><img src=\"https://colab.research.google.com/assets/colab-badge.svg\" alt=\"Open In Colab\"/></a>"
      ]
    },
    {
      "cell_type": "code",
      "metadata": {
        "id": "zX4Kg8DUTKWO",
        "colab_type": "code",
        "colab": {}
      },
      "source": [
        "#@title Licensed under the Apache License, Version 2.0 (the \"License\");\n",
        "# you may not use this file except in compliance with the License.\n",
        "# You may obtain a copy of the License at\n",
        "#\n",
        "# https://www.apache.org/licenses/LICENSE-2.0\n",
        "#\n",
        "# Unless required by applicable law or agreed to in writing, software\n",
        "# distributed under the License is distributed on an \"AS IS\" BASIS,\n",
        "# WITHOUT WARRANTIES OR CONDITIONS OF ANY KIND, either express or implied.\n",
        "# See the License for the specific language governing permissions and\n",
        "# limitations under the License."
      ],
      "execution_count": 0,
      "outputs": []
    },
    {
      "cell_type": "markdown",
      "metadata": {
        "colab_type": "text",
        "id": "view-in-github"
      },
      "source": [
        "<a href=\"https://colab.research.google.com/github/lmoroney/dlaicourse/blob/master/TensorFlow%20In%20Practice/Course%204%20-%20S%2BP/S%2BP%20Week%202%20Lesson%202.ipynb\" target=\"_parent\"><img src=\"https://colab.research.google.com/assets/colab-badge.svg\" alt=\"Open In Colab\"/></a>"
      ]
    },
    {
      "cell_type": "code",
      "metadata": {
        "colab_type": "code",
        "id": "-pwam8szRReT",
        "colab": {}
      },
      "source": [
        "try:\n",
        "  # %tensorflow_version only exists in Colab.\n",
        "  %tensorflow_version 2.x\n",
        "except Exception:\n",
        "  pass"
      ],
      "execution_count": 0,
      "outputs": []
    },
    {
      "cell_type": "code",
      "metadata": {
        "colab_type": "code",
        "id": "BOjujz601HcS",
        "outputId": "51dde51a-c994-45cc-f4db-75da705d6411",
        "colab": {
          "base_uri": "https://localhost:8080/",
          "height": 34
        }
      },
      "source": [
        "import tensorflow as tf\n",
        "import numpy as np\n",
        "import matplotlib.pyplot as plt\n",
        "print(tf.__version__)"
      ],
      "execution_count": 0,
      "outputs": [
        {
          "output_type": "stream",
          "text": [
            "2.2.0\n"
          ],
          "name": "stdout"
        }
      ]
    },
    {
      "cell_type": "code",
      "metadata": {
        "colab_type": "code",
        "id": "Zswl7jRtGzkk",
        "colab": {}
      },
      "source": [
        "def plot_series(time, series, format=\"-\", start=0, end=None):\n",
        "    plt.plot(time[start:end], series[start:end], format)\n",
        "    plt.xlabel(\"Time\")\n",
        "    plt.ylabel(\"Value\")\n",
        "    plt.grid(True)\n",
        "\n",
        "def trend(time, slope=0):\n",
        "    return slope * time\n",
        "\n",
        "def seasonal_pattern(season_time):\n",
        "    \"\"\"Just an arbitrary pattern, you can change it if you wish\"\"\"\n",
        "    return np.where(season_time < 0.4,\n",
        "                    np.cos(season_time * 2 * np.pi),\n",
        "                    1 / np.exp(3 * season_time))\n",
        "\n",
        "def seasonality(time, period, amplitude=1, phase=0):\n",
        "    \"\"\"Repeats the same pattern at each period\"\"\"\n",
        "    season_time = ((time + phase) % period) / period\n",
        "    return amplitude * seasonal_pattern(season_time)\n",
        "\n",
        "def noise(time, noise_level=1, seed=None):\n",
        "    rnd = np.random.RandomState(seed)\n",
        "    return rnd.randn(len(time)) * noise_level\n",
        "\n",
        "time = np.arange(4 * 365 + 1, dtype=\"float32\")\n",
        "baseline = 10\n",
        "series = trend(time, 0.1)  \n",
        "baseline = 10\n",
        "amplitude = 40\n",
        "slope = 0.05\n",
        "noise_level = 5\n",
        "\n",
        "# Create the series\n",
        "series = baseline + trend(time, slope) + seasonality(time, period=365, amplitude=amplitude)\n",
        "# Update with noise\n",
        "series += noise(time, noise_level, seed=42)\n",
        "\n",
        "split_time = 1000\n",
        "time_train = time[:split_time]\n",
        "x_train = series[:split_time]\n",
        "time_valid = time[split_time:]\n",
        "x_valid = series[split_time:]\n",
        "\n",
        "window_size = 20\n",
        "batch_size = 32\n",
        "shuffle_buffer_size = 1000"
      ],
      "execution_count": 0,
      "outputs": []
    },
    {
      "cell_type": "code",
      "metadata": {
        "colab_type": "code",
        "id": "4sTTIOCbyShY",
        "colab": {}
      },
      "source": [
        "def windowed_dataset(series, window_size, batch_size, shuffle_buffer):\n",
        "  dataset = tf.data.Dataset.from_tensor_slices(series)\n",
        "  dataset = dataset.window(window_size + 1, shift=1, drop_remainder=True)\n",
        "  dataset = dataset.flat_map(lambda window: window.batch(window_size + 1))\n",
        "  dataset = dataset.shuffle(shuffle_buffer).map(lambda window: (window[:-1], window[-1]))\n",
        "  dataset = dataset.batch(batch_size).prefetch(1)\n",
        "  return dataset"
      ],
      "execution_count": 0,
      "outputs": []
    },
    {
      "cell_type": "code",
      "metadata": {
        "id": "SBzvmiV_8FWh",
        "colab_type": "code",
        "outputId": "d2e5816a-c182-4e51-ed2e-1721996afdc2",
        "colab": {
          "base_uri": "https://localhost:8080/",
          "height": 1000
        }
      },
      "source": [
        "dataset = windowed_dataset(x_train, window_size, batch_size, shuffle_buffer_size)\n",
        "for x,y in dataset:\n",
        "  print(\"x = \", x.numpy())\n",
        "  print(\"y = \", y.numpy())\n",
        "  break\n",
        "print(dataset)"
      ],
      "execution_count": 0,
      "outputs": [
        {
          "output_type": "stream",
          "text": [
            "x =  [[36.417343   45.094387   44.97436    39.817963   42.99061    41.351192\n",
            "  55.690018   51.631855   53.336246   50.61204    41.383835   44.43211\n",
            "  49.527397   40.9959     50.697735   45.95752    45.31164    50.76733\n",
            "  49.460827   45.46184   ]\n",
            " [82.2952     86.72619    81.8725     82.437515   78.29621    80.53653\n",
            "  78.2063     79.88629    89.8238     79.58758    97.26462    86.32665\n",
            "  84.53093    79.05104    86.569954   79.90539    83.09849    94.98353\n",
            "  81.38736    87.288605  ]\n",
            " [22.487074   18.91756    13.98788    18.565226   15.846029   19.565367\n",
            "  10.573323   11.806878   10.846607    4.8520856  13.013545   12.202472\n",
            "  10.28818     8.456475    1.9209299   6.2647085   6.02649     3.1029897\n",
            "   5.6846423   7.8905945 ]\n",
            " [60.83839    47.617447   55.74531    58.221962   53.5481     57.82629\n",
            "  49.2742     58.26888    62.078083   48.130997   47.079636   55.936584\n",
            "  55.930805   44.782898   44.661682   44.720486   38.77553    40.274677\n",
            "  39.219364   39.77539   ]\n",
            " [24.14989    29.917734   31.582527   23.085745   27.434132   11.5371\n",
            "  22.63349    26.50489    21.541426   35.955315   20.655773   25.61978\n",
            "  28.487524   35.054302   20.683037   33.692867   27.943205   22.999773\n",
            "  30.233395   28.934015  ]\n",
            " [68.27628    60.815144   61.852913   54.642056   61.834522   51.98331\n",
            "  56.19019    67.919136   68.053764   66.2601     59.30633    63.911392\n",
            "  64.14101    58.376602   71.69516    68.57505    63.09382    64.34379\n",
            "  65.262314   54.023083  ]\n",
            " [76.67838    75.926186   78.025826   76.279305   73.8866     70.71429\n",
            "  62.228306   72.14295    70.48897    70.2582     61.960625   62.37761\n",
            "  72.48181    66.44626    69.47453    65.62681    65.04757    68.99935\n",
            "  61.132603   63.594288  ]\n",
            " [23.163013   22.696869   31.861048   30.689259   30.41058    30.84493\n",
            "  25.66792    30.18544    30.446434   25.366972   38.226013   31.225473\n",
            "  22.859697   32.05963    23.864828   32.63576    34.45614    24.523287\n",
            "  33.40782    30.619787  ]\n",
            " [65.02451    67.588295   63.59635    71.24777    60.667774   73.05737\n",
            "  63.8552     56.905815   64.7043     60.66297    68.27628    60.815144\n",
            "  61.852913   54.642056   61.834522   51.98331    56.19019    67.919136\n",
            "  68.053764   66.2601    ]\n",
            " [41.78223    40.778324   31.413609   33.544636   36.22143    38.910835\n",
            "  31.098982   32.022236   26.868631   25.863333   35.345516   37.49725\n",
            "  29.783985   34.584694   30.793396   25.17319    29.614908   34.903008\n",
            "  26.434551   33.833897  ]\n",
            " [80.53653    78.2063     79.88629    89.8238     79.58758    97.26462\n",
            "  86.32665    84.53093    79.05104    86.569954   79.90539    83.09849\n",
            "  94.98353    81.38736    87.288605   77.69104    80.686905   89.36113\n",
            "  77.00803    88.83144   ]\n",
            " [29.64197    21.320347   32.222126   38.251995   32.812275   20.062172\n",
            "  25.247257   34.012722   24.14989    29.917734   31.582527   23.085745\n",
            "  27.434132   11.5371     22.63349    26.50489    21.541426   35.955315\n",
            "  20.655773   25.61978   ]\n",
            " [44.792107   50.02539    34.813927   47.039402   49.707848   38.453266\n",
            "  51.55811    47.52543    43.75058    48.98545    57.16999    46.721287\n",
            "  47.04894    43.50735    41.55169    49.94979    41.51532    46.151627\n",
            "  43.403996   48.186077  ]\n",
            " [63.752514   63.475304   64.5454     56.779926   64.616325   63.28385\n",
            "  67.65466    68.4235     75.89651    71.0577     63.200054   61.360634\n",
            "  68.069664   58.755577   74.25012    70.71561    62.1877     55.672768\n",
            "  70.70246    63.04496   ]\n",
            " [25.247257   34.012722   24.14989    29.917734   31.582527   23.085745\n",
            "  27.434132   11.5371     22.63349    26.50489    21.541426   35.955315\n",
            "  20.655773   25.61978    28.487524   35.054302   20.683037   33.692867\n",
            "  27.943205   22.999773  ]\n",
            " [44.25351    46.578594   43.35101    41.514812   40.177532   33.871693\n",
            "  37.237713   38.097908   45.242546   41.222683   30.229015   40.196377\n",
            "  36.174564   34.231815   40.183838   41.78223    40.778324   31.413609\n",
            "  33.544636   36.22143   ]\n",
            " [55.588398   51.994976   45.036507   40.86737    59.286106   46.734955\n",
            "  46.52831    46.358097   47.48944    45.797756   43.672028   43.82706\n",
            "  46.418854   43.886986   43.061607   47.179943   45.395092   54.212364\n",
            "  33.46019    52.195435  ]\n",
            " [48.130997   47.079636   55.936584   55.930805   44.782898   44.661682\n",
            "  44.720486   38.77553    40.274677   39.219364   39.77539    42.817646\n",
            "  43.541412   49.504894   36.145657   45.44724    38.847263   39.065025\n",
            "  42.08534    32.500496  ]\n",
            " [19.33878    16.037046   18.891464   22.002163   30.77161    63.25971\n",
            "  66.9181     65.66923    71.64629    78.29278    62.958344   63.12085\n",
            "  70.74497    68.890526   74.672264   68.31678    63.55985    68.26949\n",
            "  70.82038    69.340645  ]\n",
            " [26.142935   29.688772   29.7776     22.711872   21.861979   22.74508\n",
            "  11.99279    15.311469   29.109999   29.892042   19.817163   23.34403\n",
            "  21.420355   34.665504   24.280306   17.458702   12.741154    8.912089\n",
            "  17.392189   12.028938  ]\n",
            " [35.345516   37.49725    29.783985   34.584694   30.793396   25.17319\n",
            "  29.614908   34.903008   26.434551   33.833897   12.305289   28.903387\n",
            "  24.615705   22.06895    23.403429   12.384742   20.599699   22.856821\n",
            "  27.831846   17.22026   ]\n",
            " [55.690018   51.631855   53.336246   50.61204    41.383835   44.43211\n",
            "  49.527397   40.9959     50.697735   45.95752    45.31164    50.76733\n",
            "  49.460827   45.46184    53.09068    41.916256   50.42897    50.342705\n",
            "  45.857548   49.064213  ]\n",
            " [73.8866     70.71429    62.228306   72.14295    70.48897    70.2582\n",
            "  61.960625   62.37761    72.48181    66.44626    69.47453    65.62681\n",
            "  65.04757    68.99935    61.132603   63.594288   60.199306   59.731533\n",
            "  59.748016   61.791138  ]\n",
            " [ 8.743816   22.045954   17.48329    12.506416   19.42369    11.895177\n",
            "   6.6931214  18.11337    12.697694    4.3296328   8.084382    4.185847\n",
            "   1.185607   12.274111   16.742033   -0.23790547  9.138161    2.6470213\n",
            "   3.0502167   2.1182992 ]\n",
            " [42.963524   44.570477   51.18507    49.86728    42.430267   47.770836\n",
            "  50.988007   38.8417     49.86395    43.793186   49.91921    43.210567\n",
            "  37.963825   38.81263    47.153587   48.17531    42.31936    49.998848\n",
            "  38.46393    46.40746   ]\n",
            " [75.96446    67.923256   76.01741    76.67838    75.926186   78.025826\n",
            "  76.279305   73.8866     70.71429    62.228306   72.14295    70.48897\n",
            "  70.2582     61.960625   62.37761    72.48181    66.44626    69.47453\n",
            "  65.62681    65.04757   ]\n",
            " [75.451965   63.071606   65.68167    65.80888    72.42587    64.03937\n",
            "  65.888794   67.51159    65.38417    62.19856    65.38135    69.759796\n",
            "  59.24037    65.01967    60.836647   70.29547    56.687828   61.493233\n",
            "  66.15852    72.08523   ]\n",
            " [22.696869   31.861048   30.689259   30.41058    30.84493    25.66792\n",
            "  30.18544    30.446434   25.366972   38.226013   31.225473   22.859697\n",
            "  32.05963    23.864828   32.63576    34.45614    24.523287   33.40782\n",
            "  30.619787   32.631824  ]\n",
            " [41.15425    33.992973   35.49228    32.133102   36.481853   40.935776\n",
            "  30.595173   37.406914   31.5976     29.646276   32.436993   27.157375\n",
            "  28.926945   25.067759   40.243286   29.959265   25.648567   29.582514\n",
            "  27.31777    26.142935  ]\n",
            " [49.111588   45.56813    47.25254    40.23226    58.09582    46.520874\n",
            "  46.429794   49.520046   48.304993   47.02844    41.966053   48.28551\n",
            "  55.34836    52.675735   53.92529    43.414318   41.033737   45.364502\n",
            "  46.284054   51.48869   ]\n",
            " [81.65221    88.61756    78.08376    91.750984   88.96491    87.86698\n",
            "  91.473404   94.84867    91.54276    77.20444    79.93713    83.12551\n",
            "  86.283035   88.6323     82.2952     86.72619    81.8725     82.437515\n",
            "  78.29621    80.53653   ]\n",
            " [63.914536   61.453503   73.62201    56.963406   53.19721    66.379585\n",
            "  61.65801    59.0514     67.68912    65.356606   61.307972   57.718082\n",
            "  68.47362    67.35454    63.60032    73.322525   58.73252    56.449394\n",
            "  60.612007   63.838596  ]]\n",
            "y =  [53.09068    77.69104    14.683323   42.817646   24.953756   63.007553\n",
            " 60.199306   32.631824   59.30633    12.305289   82.92502    28.487524\n",
            " 47.458817   69.481316   30.233395   38.910835   52.991413   39.433147\n",
            " 67.73671     8.140686   15.136701   41.20642    57.670246    0.36368567\n",
            " 40.649796   68.99935    63.914536   37.97182    29.688772   37.56802\n",
            " 78.2063     65.278656  ]\n",
            "<PrefetchDataset shapes: ((None, None), (None,)), types: (tf.float32, tf.float32)>\n"
          ],
          "name": "stdout"
        }
      ]
    },
    {
      "cell_type": "code",
      "metadata": {
        "colab_type": "code",
        "id": "ou-WmE2AXu6B",
        "outputId": "5d755828-759f-489b-de62-357ef8c06bdb",
        "colab": {
          "base_uri": "https://localhost:8080/",
          "height": 1000
        }
      },
      "source": [
        "dataset = windowed_dataset(x_train, window_size, batch_size, shuffle_buffer_size)\n",
        "print(dataset)\n",
        "l0 = tf.keras.layers.Dense(1, input_shape=[window_size])\n",
        "model = tf.keras.models.Sequential([l0])\n",
        "\n",
        "\n",
        "model.compile(loss=\"mse\", optimizer=tf.keras.optimizers.SGD(lr=1e-6, momentum=0.9))\n",
        "model.fit(dataset,epochs=100,verbose=2)\n",
        "\n",
        "print(\"Layer weights {}\".format(l0.get_weights()))\n"
      ],
      "execution_count": 0,
      "outputs": [
        {
          "output_type": "stream",
          "text": [
            "<PrefetchDataset shapes: ((None, None), (None,)), types: (tf.float32, tf.float32)>\n",
            "Epoch 1/100\n",
            "31/31 - 0s - loss: 694.1855\n",
            "Epoch 2/100\n",
            "31/31 - 0s - loss: 148.6935\n",
            "Epoch 3/100\n",
            "31/31 - 0s - loss: 116.0513\n",
            "Epoch 4/100\n",
            "31/31 - 0s - loss: 109.3053\n",
            "Epoch 5/100\n",
            "31/31 - 0s - loss: 103.7762\n",
            "Epoch 6/100\n",
            "31/31 - 0s - loss: 98.9920\n",
            "Epoch 7/100\n",
            "31/31 - 0s - loss: 95.6160\n",
            "Epoch 8/100\n",
            "31/31 - 0s - loss: 92.8777\n",
            "Epoch 9/100\n",
            "31/31 - 0s - loss: 89.4710\n",
            "Epoch 10/100\n",
            "31/31 - 0s - loss: 86.8882\n",
            "Epoch 11/100\n",
            "31/31 - 0s - loss: 84.1187\n",
            "Epoch 12/100\n",
            "31/31 - 0s - loss: 82.5244\n",
            "Epoch 13/100\n",
            "31/31 - 0s - loss: 80.3186\n",
            "Epoch 14/100\n",
            "31/31 - 0s - loss: 78.0918\n",
            "Epoch 15/100\n",
            "31/31 - 0s - loss: 76.4817\n",
            "Epoch 16/100\n",
            "31/31 - 0s - loss: 74.8244\n",
            "Epoch 17/100\n",
            "31/31 - 0s - loss: 74.2763\n",
            "Epoch 18/100\n",
            "31/31 - 0s - loss: 72.4238\n",
            "Epoch 19/100\n",
            "31/31 - 0s - loss: 70.0598\n",
            "Epoch 20/100\n",
            "31/31 - 0s - loss: 68.8319\n",
            "Epoch 21/100\n",
            "31/31 - 0s - loss: 68.2746\n",
            "Epoch 22/100\n",
            "31/31 - 0s - loss: 66.3564\n",
            "Epoch 23/100\n",
            "31/31 - 0s - loss: 65.2719\n",
            "Epoch 24/100\n",
            "31/31 - 0s - loss: 65.6539\n",
            "Epoch 25/100\n",
            "31/31 - 0s - loss: 65.6660\n",
            "Epoch 26/100\n",
            "31/31 - 0s - loss: 62.5271\n",
            "Epoch 27/100\n",
            "31/31 - 0s - loss: 62.9364\n",
            "Epoch 28/100\n",
            "31/31 - 0s - loss: 60.8062\n",
            "Epoch 29/100\n",
            "31/31 - 0s - loss: 60.1847\n",
            "Epoch 30/100\n",
            "31/31 - 0s - loss: 59.9631\n",
            "Epoch 31/100\n",
            "31/31 - 0s - loss: 58.9098\n",
            "Epoch 32/100\n",
            "31/31 - 0s - loss: 58.5352\n",
            "Epoch 33/100\n",
            "31/31 - 0s - loss: 57.5432\n",
            "Epoch 34/100\n",
            "31/31 - 0s - loss: 56.7679\n",
            "Epoch 35/100\n",
            "31/31 - 0s - loss: 55.8052\n",
            "Epoch 36/100\n",
            "31/31 - 0s - loss: 55.8624\n",
            "Epoch 37/100\n",
            "31/31 - 0s - loss: 55.2027\n",
            "Epoch 38/100\n",
            "31/31 - 0s - loss: 55.0610\n",
            "Epoch 39/100\n",
            "31/31 - 0s - loss: 53.9137\n",
            "Epoch 40/100\n",
            "31/31 - 0s - loss: 53.6532\n",
            "Epoch 41/100\n",
            "31/31 - 0s - loss: 53.5470\n",
            "Epoch 42/100\n",
            "31/31 - 0s - loss: 52.7994\n",
            "Epoch 43/100\n",
            "31/31 - 0s - loss: 52.0609\n",
            "Epoch 44/100\n",
            "31/31 - 0s - loss: 51.8517\n",
            "Epoch 45/100\n",
            "31/31 - 0s - loss: 51.5285\n",
            "Epoch 46/100\n",
            "31/31 - 0s - loss: 51.3172\n",
            "Epoch 47/100\n",
            "31/31 - 0s - loss: 51.0345\n",
            "Epoch 48/100\n",
            "31/31 - 0s - loss: 50.4815\n",
            "Epoch 49/100\n",
            "31/31 - 0s - loss: 50.5431\n",
            "Epoch 50/100\n",
            "31/31 - 0s - loss: 50.2656\n",
            "Epoch 51/100\n",
            "31/31 - 0s - loss: 49.7686\n",
            "Epoch 52/100\n",
            "31/31 - 0s - loss: 49.6412\n",
            "Epoch 53/100\n",
            "31/31 - 0s - loss: 49.6019\n",
            "Epoch 54/100\n",
            "31/31 - 0s - loss: 49.2486\n",
            "Epoch 55/100\n",
            "31/31 - 0s - loss: 48.7039\n",
            "Epoch 56/100\n",
            "31/31 - 0s - loss: 49.3999\n",
            "Epoch 57/100\n",
            "31/31 - 0s - loss: 49.4568\n",
            "Epoch 58/100\n",
            "31/31 - 0s - loss: 47.8131\n",
            "Epoch 59/100\n",
            "31/31 - 0s - loss: 47.7634\n",
            "Epoch 60/100\n",
            "31/31 - 0s - loss: 47.6514\n",
            "Epoch 61/100\n",
            "31/31 - 0s - loss: 48.2864\n",
            "Epoch 62/100\n",
            "31/31 - 0s - loss: 48.2099\n",
            "Epoch 63/100\n",
            "31/31 - 0s - loss: 47.4459\n",
            "Epoch 64/100\n",
            "31/31 - 0s - loss: 47.1664\n",
            "Epoch 65/100\n",
            "31/31 - 0s - loss: 47.0933\n",
            "Epoch 66/100\n",
            "31/31 - 0s - loss: 46.8635\n",
            "Epoch 67/100\n",
            "31/31 - 0s - loss: 46.4816\n",
            "Epoch 68/100\n",
            "31/31 - 0s - loss: 46.7996\n",
            "Epoch 69/100\n",
            "31/31 - 0s - loss: 46.2573\n",
            "Epoch 70/100\n",
            "31/31 - 0s - loss: 46.8940\n",
            "Epoch 71/100\n",
            "31/31 - 0s - loss: 46.7908\n",
            "Epoch 72/100\n",
            "31/31 - 0s - loss: 46.1857\n",
            "Epoch 73/100\n",
            "31/31 - 0s - loss: 46.3237\n",
            "Epoch 74/100\n",
            "31/31 - 0s - loss: 45.9589\n",
            "Epoch 75/100\n",
            "31/31 - 0s - loss: 45.8871\n",
            "Epoch 76/100\n",
            "31/31 - 0s - loss: 45.7702\n",
            "Epoch 77/100\n",
            "31/31 - 0s - loss: 45.5448\n",
            "Epoch 78/100\n",
            "31/31 - 0s - loss: 45.4107\n",
            "Epoch 79/100\n",
            "31/31 - 0s - loss: 45.6856\n",
            "Epoch 80/100\n",
            "31/31 - 0s - loss: 45.9532\n",
            "Epoch 81/100\n",
            "31/31 - 0s - loss: 45.4084\n",
            "Epoch 82/100\n",
            "31/31 - 0s - loss: 45.4412\n",
            "Epoch 83/100\n",
            "31/31 - 0s - loss: 45.4851\n",
            "Epoch 84/100\n",
            "31/31 - 0s - loss: 44.9822\n",
            "Epoch 85/100\n",
            "31/31 - 0s - loss: 44.7987\n",
            "Epoch 86/100\n",
            "31/31 - 0s - loss: 44.7447\n",
            "Epoch 87/100\n",
            "31/31 - 0s - loss: 45.0889\n",
            "Epoch 88/100\n",
            "31/31 - 0s - loss: 44.4507\n",
            "Epoch 89/100\n",
            "31/31 - 0s - loss: 45.0131\n",
            "Epoch 90/100\n",
            "31/31 - 0s - loss: 44.7268\n",
            "Epoch 91/100\n",
            "31/31 - 0s - loss: 44.8507\n",
            "Epoch 92/100\n",
            "31/31 - 0s - loss: 45.7922\n",
            "Epoch 93/100\n",
            "31/31 - 0s - loss: 44.5396\n",
            "Epoch 94/100\n",
            "31/31 - 0s - loss: 45.2781\n",
            "Epoch 95/100\n",
            "31/31 - 0s - loss: 44.2123\n",
            "Epoch 96/100\n",
            "31/31 - 0s - loss: 44.5425\n",
            "Epoch 97/100\n",
            "31/31 - 0s - loss: 44.1420\n",
            "Epoch 98/100\n",
            "31/31 - 0s - loss: 44.1529\n",
            "Epoch 99/100\n",
            "31/31 - 0s - loss: 44.2823\n",
            "Epoch 100/100\n",
            "31/31 - 0s - loss: 44.1421\n",
            "Layer weights [array([[-0.08130307],\n",
            "       [ 0.0371041 ],\n",
            "       [ 0.1112107 ],\n",
            "       [-0.08167677],\n",
            "       [-0.02750119],\n",
            "       [ 0.05788835],\n",
            "       [-0.01404138],\n",
            "       [ 0.0332556 ],\n",
            "       [-0.07137337],\n",
            "       [-0.03114503],\n",
            "       [ 0.08182906],\n",
            "       [ 0.02111785],\n",
            "       [-0.03525124],\n",
            "       [-0.03267575],\n",
            "       [ 0.01918353],\n",
            "       [ 0.13200264],\n",
            "       [ 0.01455062],\n",
            "       [ 0.11475246],\n",
            "       [ 0.29511327],\n",
            "       [ 0.448927  ]], dtype=float32), array([0.01442203], dtype=float32)]\n"
          ],
          "name": "stdout"
        }
      ]
    },
    {
      "cell_type": "code",
      "metadata": {
        "colab_type": "code",
        "id": "-gtVJuLVxR-M",
        "outputId": "8d66087f-df6e-4b9a-ed98-8d31cccc14ff",
        "colab": {
          "base_uri": "https://localhost:8080/",
          "height": 405
        }
      },
      "source": [
        "forecast = []\n",
        "\n",
        "for time in range(len(series) - window_size):\n",
        "  forecast.append(model.predict(series[time:time + window_size][np.newaxis]))\n",
        "print(forecast[0:])\n",
        "forecast = forecast[split_time-window_size:]\n",
        "\n",
        "results = np.array(forecast)[:, 0, 0]\n",
        "\n",
        "\n",
        "plt.figure(figsize=(10, 6))\n",
        "\n",
        "plot_series(time_valid, x_valid)\n",
        "plot_series(time_valid, results)"
      ],
      "execution_count": 0,
      "outputs": [
        {
          "output_type": "stream",
          "text": [
            "[[43.27876]]\n"
          ],
          "name": "stdout"
        },
        {
          "output_type": "display_data",
          "data": {
            "image/png": "[encoded data removed]",
            "text/plain": [
              "<Figure size 720x432 with 1 Axes>"
            ]
          },
          "metadata": {
            "tags": [],
            "needs_background": "light"
          }
        }
      ]
    },
    {
      "cell_type": "code",
      "metadata": {
        "id": "bGilo-97_Pbf",
        "colab_type": "code",
        "outputId": "b59b0eed-96f5-4538-9378-bac26a2865ef",
        "colab": {
          "base_uri": "https://localhost:8080/",
          "height": 54
        }
      },
      "source": [
        "forecast = []\n",
        "\n",
        "for time in range(len(series) - window_size):\n",
        "  forecast.append(model.predict(series[time:time + window_size][np.newaxis]))\n",
        "print(forecast[0:5])"
      ],
      "execution_count": 0,
      "outputs": [
        {
          "output_type": "stream",
          "text": [
            "[array([[43.27876]], dtype=float32), array([[50.2413]], dtype=float32), array([[49.8038]], dtype=float32), array([[45.704063]], dtype=float32), array([[44.110233]], dtype=float32)]\n"
          ],
          "name": "stdout"
        }
      ]
    },
    {
      "cell_type": "code",
      "metadata": {
        "id": "-4rYRY2r_7Pa",
        "colab_type": "code",
        "outputId": "867e7060-397e-441c-87e7-131f2b45bbda",
        "colab": {
          "base_uri": "https://localhost:8080/",
          "height": 187
        }
      },
      "source": [
        "model.summary()"
      ],
      "execution_count": 0,
      "outputs": [
        {
          "output_type": "stream",
          "text": [
            "Model: \"sequential_2\"\n",
            "_________________________________________________________________\n",
            "Layer (type)                 Output Shape              Param #   \n",
            "=================================================================\n",
            "dense_2 (Dense)              (None, 1)                 21        \n",
            "=================================================================\n",
            "Total params: 21\n",
            "Trainable params: 21\n",
            "Non-trainable params: 0\n",
            "_________________________________________________________________\n"
          ],
          "name": "stdout"
        }
      ]
    },
    {
      "cell_type": "code",
      "metadata": {
        "colab_type": "code",
        "id": "hR2BO0Dai_ZT",
        "outputId": "85272170-44eb-42a3-cdd7-7141fdf11b15",
        "colab": {
          "base_uri": "https://localhost:8080/",
          "height": 34
        }
      },
      "source": [
        "tf.keras.metrics.mean_absolute_error(x_valid, results).numpy()"
      ],
      "execution_count": 0,
      "outputs": [
        {
          "output_type": "execute_result",
          "data": {
            "text/plain": [
              "5.0553374"
            ]
          },
          "metadata": {
            "tags": []
          },
          "execution_count": 12
        }
      ]
    },
    {
      "cell_type": "code",
      "metadata": {
        "id": "7loVliBiApKM",
        "colab_type": "code",
        "colab": {}
      },
      "source": [
        ""
      ],
      "execution_count": 0,
      "outputs": []
    }
  ]
}